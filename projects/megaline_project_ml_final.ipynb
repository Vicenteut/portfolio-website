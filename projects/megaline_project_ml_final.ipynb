{
 "cells": [
  {
   "cell_type": "markdown",
   "id": "37a425d1",
   "metadata": {},
   "source": [
    "# Project: Classifying Megaline Plans – Smart or Ultra\n",
    "## 🎯 Objective\n",
    "\n",
    "#### The goal of this project is to develop a binary classification model that can accurately recommend one of Megaline's modern mobile plans Smart or Ultra based on subscriber usage behavior. The target is to build a model that meets or exceeds an accuracy score of 0.75 on unseen test data.\n",
    "\n",
    "#### This analysis uses historical monthly usage data of Megaline customers, including the number of calls, call duration, messages sent, and internet data used. The final output is a classification prediction: Smart (0) or Ultra (1).\n",
    "#### Develop a binary classification model that predicts whether a customer should be offered the Smart (0) or Ultra (1) plan based on monthly behavior data. The target accuracy on the test set must be at least 0.75.\n",
    " \n",
    "\n"
   ]
  },
  {
   "cell_type": "markdown",
   "id": "5e89b989",
   "metadata": {},
   "source": [
    "# Initial Data Exploration(Light EDA)\n",
    "#### • Load the dataset.\n",
    "#### • Inspect Using: info(), describe(), head().\n",
    "#### • Check for missing values, outliers, class balance, and feature correlations."
   ]
  },
  {
   "cell_type": "code",
   "execution_count": 2,
   "id": "b77e2093",
   "metadata": {},
   "outputs": [],
   "source": [
    "# Import necessary libraries\n",
    "import pandas as pd\n",
    "from sklearn.model_selection import train_test_split\n",
    "from sklearn.tree import DecisionTreeClassifier\n",
    "from sklearn.metrics import accuracy_score\n",
    "from sklearn.ensemble import RandomForestClassifier\n",
    "from sklearn.linear_model import LogisticRegression"
   ]
  },
  {
   "cell_type": "code",
   "execution_count": 18,
   "id": "442d7e0b",
   "metadata": {},
   "outputs": [],
   "source": [
    "data = pd.read_csv('users_behavior.csv')\n"
   ]
  },
  {
   "cell_type": "code",
   "execution_count": 4,
   "id": "0be4e60e",
   "metadata": {},
   "outputs": [
    {
     "name": "stdout",
     "output_type": "stream",
     "text": [
      "<class 'pandas.core.frame.DataFrame'>\n",
      "RangeIndex: 3214 entries, 0 to 3213\n",
      "Data columns (total 5 columns):\n",
      " #   Column    Non-Null Count  Dtype  \n",
      "---  ------    --------------  -----  \n",
      " 0   calls     3214 non-null   float64\n",
      " 1   minutes   3214 non-null   float64\n",
      " 2   messages  3214 non-null   float64\n",
      " 3   mb_used   3214 non-null   float64\n",
      " 4   is_ultra  3214 non-null   int64  \n",
      "dtypes: float64(4), int64(1)\n",
      "memory usage: 125.7 KB\n"
     ]
    }
   ],
   "source": [
    "data.info()"
   ]
  },
  {
   "cell_type": "code",
   "execution_count": 5,
   "id": "695d8ee9",
   "metadata": {},
   "outputs": [
    {
     "data": {
      "text/html": [
       "<div>\n",
       "<style scoped>\n",
       "    .dataframe tbody tr th:only-of-type {\n",
       "        vertical-align: middle;\n",
       "    }\n",
       "\n",
       "    .dataframe tbody tr th {\n",
       "        vertical-align: top;\n",
       "    }\n",
       "\n",
       "    .dataframe thead th {\n",
       "        text-align: right;\n",
       "    }\n",
       "</style>\n",
       "<table border=\"1\" class=\"dataframe\">\n",
       "  <thead>\n",
       "    <tr style=\"text-align: right;\">\n",
       "      <th></th>\n",
       "      <th>calls</th>\n",
       "      <th>minutes</th>\n",
       "      <th>messages</th>\n",
       "      <th>mb_used</th>\n",
       "      <th>is_ultra</th>\n",
       "    </tr>\n",
       "  </thead>\n",
       "  <tbody>\n",
       "    <tr>\n",
       "      <th>count</th>\n",
       "      <td>3214.000000</td>\n",
       "      <td>3214.000000</td>\n",
       "      <td>3214.000000</td>\n",
       "      <td>3214.000000</td>\n",
       "      <td>3214.000000</td>\n",
       "    </tr>\n",
       "    <tr>\n",
       "      <th>mean</th>\n",
       "      <td>63.038892</td>\n",
       "      <td>438.208787</td>\n",
       "      <td>38.281269</td>\n",
       "      <td>17207.673836</td>\n",
       "      <td>0.306472</td>\n",
       "    </tr>\n",
       "    <tr>\n",
       "      <th>std</th>\n",
       "      <td>33.236368</td>\n",
       "      <td>234.569872</td>\n",
       "      <td>36.148326</td>\n",
       "      <td>7570.968246</td>\n",
       "      <td>0.461100</td>\n",
       "    </tr>\n",
       "    <tr>\n",
       "      <th>min</th>\n",
       "      <td>0.000000</td>\n",
       "      <td>0.000000</td>\n",
       "      <td>0.000000</td>\n",
       "      <td>0.000000</td>\n",
       "      <td>0.000000</td>\n",
       "    </tr>\n",
       "    <tr>\n",
       "      <th>25%</th>\n",
       "      <td>40.000000</td>\n",
       "      <td>274.575000</td>\n",
       "      <td>9.000000</td>\n",
       "      <td>12491.902500</td>\n",
       "      <td>0.000000</td>\n",
       "    </tr>\n",
       "    <tr>\n",
       "      <th>50%</th>\n",
       "      <td>62.000000</td>\n",
       "      <td>430.600000</td>\n",
       "      <td>30.000000</td>\n",
       "      <td>16943.235000</td>\n",
       "      <td>0.000000</td>\n",
       "    </tr>\n",
       "    <tr>\n",
       "      <th>75%</th>\n",
       "      <td>82.000000</td>\n",
       "      <td>571.927500</td>\n",
       "      <td>57.000000</td>\n",
       "      <td>21424.700000</td>\n",
       "      <td>1.000000</td>\n",
       "    </tr>\n",
       "    <tr>\n",
       "      <th>max</th>\n",
       "      <td>244.000000</td>\n",
       "      <td>1632.060000</td>\n",
       "      <td>224.000000</td>\n",
       "      <td>49745.730000</td>\n",
       "      <td>1.000000</td>\n",
       "    </tr>\n",
       "  </tbody>\n",
       "</table>\n",
       "</div>"
      ],
      "text/plain": [
       "             calls      minutes     messages       mb_used     is_ultra\n",
       "count  3214.000000  3214.000000  3214.000000   3214.000000  3214.000000\n",
       "mean     63.038892   438.208787    38.281269  17207.673836     0.306472\n",
       "std      33.236368   234.569872    36.148326   7570.968246     0.461100\n",
       "min       0.000000     0.000000     0.000000      0.000000     0.000000\n",
       "25%      40.000000   274.575000     9.000000  12491.902500     0.000000\n",
       "50%      62.000000   430.600000    30.000000  16943.235000     0.000000\n",
       "75%      82.000000   571.927500    57.000000  21424.700000     1.000000\n",
       "max     244.000000  1632.060000   224.000000  49745.730000     1.000000"
      ]
     },
     "execution_count": 5,
     "metadata": {},
     "output_type": "execute_result"
    }
   ],
   "source": [
    "data.describe()"
   ]
  },
  {
   "cell_type": "markdown",
   "id": "ed1845cc",
   "metadata": {},
   "source": [
    "## Data Preparation\n",
    " "
   ]
  },
  {
   "cell_type": "code",
   "execution_count": null,
   "id": "ca7ab7d3",
   "metadata": {},
   "outputs": [],
   "source": [
    "#Define features and target variable\n",
    "target = data['is_ultra']\n",
    "features = data.drop(columns=['is_ultra'])\n",
    "\n",
    "#Split the dataset into training and testing sets\n",
    "X_temp, X_test, y_temp, y_test = train_test_split(features, target, test_size=0.25, random_state=54321)\n",
    "\n",
    "#Further split the training set into training and validation sets\n",
    "X_train, X_valid, y_train, y_valid = train_test_split(X_temp, y_temp, test_size=0.33, random_state=54321)\n",
    "\n",
    "\n"
   ]
  },
  {
   "cell_type": "markdown",
   "id": "cfe6d882",
   "metadata": {},
   "source": [
    "#  Base Model Training\n",
    "\n",
    "#### To establish a strong baseline, we selected three classification algorithms widely used for structured data tasks:\n",
    "\n",
    "#### • Logistic Regression: A fast and interpretable linear model, useful for benchmarking.\n",
    "\n",
    "#### • Decision Tree Classifier: A flexible, rule-based model that captures non-linear relationships and is easy to visualize.\n",
    "\n",
    "#### • Random Forest Classifier: An ensemble method that combines multiple decision trees to improve accuracy and reduce overfitting.\n",
    "\n",
    "#### These models offer a good mix of simplicity, interpretability, and predictive power. Comparing them allows us to understand how linear and non-linear approaches perform on this dataset."
   ]
  },
  {
   "cell_type": "markdown",
   "id": "f4f4f13d",
   "metadata": {},
   "source": [
    "## Model: Decision Tree Classifier."
   ]
  },
  {
   "cell_type": "code",
   "execution_count": 14,
   "id": "1db8c47d",
   "metadata": {},
   "outputs": [
    {
     "name": "stdout",
     "output_type": "stream",
     "text": [
      "Model Accuracy: 0.73\n",
      "Model training and evaluation completed successfully.\n"
     ]
    }
   ],
   "source": [
    "#Train a Decision Tree Classifier\n",
    "model = DecisionTreeClassifier(random_state=54321)\n",
    "model.fit(X_train, y_train)\n",
    "\n",
    "#Make predictions on the test set\n",
    "predictions = model.predict(X_valid)\n",
    "\n",
    "#Evaluate the model's accuracy\n",
    "accuracy = accuracy_score(y_valid, predictions)\n",
    "\n",
    "print(f\"Model Accuracy: {accuracy:.2f}\")\n",
    "print(\"Model training and evaluation completed successfully.\")"
   ]
  },
  {
   "cell_type": "markdown",
   "id": "9756c4fd",
   "metadata": {},
   "source": [
    "## Model: Random Forest Classifier."
   ]
  },
  {
   "cell_type": "code",
   "execution_count": 15,
   "id": "a4789e99",
   "metadata": {},
   "outputs": [
    {
     "name": "stdout",
     "output_type": "stream",
     "text": [
      "Random Forest Model Accuracy: 0.80\n",
      "Model training and evaluation completed successfully.\n"
     ]
    }
   ],
   "source": [
    "# Train a Random Forest Classifier\n",
    "rf_model = RandomForestClassifier(random_state=54321)\n",
    "rf_model.fit(X_train, y_train)\n",
    "\n",
    "# Make predictions with the Random Forest model\n",
    "rf_predictions = rf_model.predict(X_valid)\n",
    "rf_accuracy = accuracy_score(y_valid, rf_predictions)\n",
    "\n",
    "print(f\"Random Forest Model Accuracy: {rf_accuracy:.2f}\")\n",
    "print(\"Model training and evaluation completed successfully.\")"
   ]
  },
  {
   "cell_type": "markdown",
   "id": "cd9959ce",
   "metadata": {},
   "source": [
    "## Model: Logistic Regression"
   ]
  },
  {
   "cell_type": "code",
   "execution_count": 16,
   "id": "58f68882",
   "metadata": {},
   "outputs": [
    {
     "name": "stdout",
     "output_type": "stream",
     "text": [
      "Logistic Regression Model Accuracy: 0.73\n",
      "Model training and evaluation completed successfully.\n"
     ]
    }
   ],
   "source": [
    "# Train a Logistic Regression model\n",
    "lr_model = LogisticRegression(random_state=54321, max_iter=1000)\n",
    "lr_model.fit(X_train, y_train)\n",
    "\n",
    "# Make predictions with the Logistic Regression model\n",
    "lr_predictions = lr_model.predict(X_valid)\n",
    "lr_accuracy = accuracy_score(y_valid, lr_predictions)\n",
    "\n",
    "print(f\"Logistic Regression Model Accuracy: {lr_accuracy:.2f}\")\n",
    "print(\"Model training and evaluation completed successfully.\")"
   ]
  },
  {
   "cell_type": "markdown",
   "id": "cd1af055",
   "metadata": {},
   "source": [
    "## Tunning Hyperparameters\n",
    "#### Focus on tuning the RandomForestClassifier, as it showed the best validation accuracy (0.80)."
   ]
  },
  {
   "cell_type": "code",
   "execution_count": 13,
   "id": "4d868547",
   "metadata": {},
   "outputs": [
    {
     "name": "stdout",
     "output_type": "stream",
     "text": [
      "Best Random Forest Model Accuracy: 0.80\n",
      "Best Hyperparameters: {'max_depth': 5, 'n_estimators': 100}\n"
     ]
    }
   ],
   "source": [
    "best_model = None\n",
    "best_accuracy = 0\n",
    "best_params = {}\n",
    "\n",
    "for depth in [5, 10, 15]:\n",
    "    for est in [50, 100, 150]:\n",
    "        rf_model = RandomForestClassifier(max_depth=depth, n_estimators=est, random_state=54321)\n",
    "        rf_model.fit(X_train, y_train\n",
    "                     )\n",
    "        rf_predictions = rf_model.predict(X_valid)\n",
    "        rf_accuracy = accuracy_score(y_valid, rf_predictions)\n",
    "        if rf_accuracy > best_accuracy:\n",
    "            best_accuracy = rf_accuracy\n",
    "            best_model = rf_model\n",
    "            best_params = {'max_depth': depth, 'n_estimators': est}\n",
    "print(f\"Best Random Forest Model Accuracy: {best_accuracy:.2f}\")\n",
    "print(f\"Best Hyperparameters: {best_params}\")\n"
   ]
  },
  {
   "cell_type": "markdown",
   "id": "d3b0adbe",
   "metadata": {},
   "source": [
    "## Sanity Check\n",
    "#### To validate the model beyond accuracy score, a sanity check was performed by:\n",
    "\n",
    "#### • Inspecting predictions for synthetic or edge-case inputs (e.g., users with zero messages or extremely high data usage).\n",
    "\n",
    "#### These checks help verify that the model's behavior is not only accurate but also reasonable and interpretable in real-world scenarios.\n",
    "\n",
    "#### Evaluate how the model reacts to extreme or edge-case data"
   ]
  },
  {
   "cell_type": "code",
   "execution_count": 11,
   "id": "369987b4",
   "metadata": {},
   "outputs": [
    {
     "name": "stdout",
     "output_type": "stream",
     "text": [
      "Test Case 1: Predicted Plan → Ultra\n",
      "Test Case 2: Predicted Plan → Ultra\n",
      "Test Case 3: Predicted Plan → Smart\n"
     ]
    }
   ],
   "source": [
    "# Test cases for prediction\n",
    "test_cases = pd.DataFrame({\n",
    "    'calls': [0, 150, 10],\n",
    "    'minutes': [0, 1500, 50],\n",
    "    'messages': [0, 300, 1],\n",
    "    'mb_used': [0, 20000, 500]\n",
    "})\n",
    "\n",
    "# Make predictions on the test cases using the best model\n",
    "predictions = best_model.predict(test_cases)\n",
    "\n",
    "# Output the predictions for each test case\n",
    "for i, pred in enumerate(predictions):\n",
    "    plan = 'Ultra' if pred == 1 else 'Smart'\n",
    "    print(f\"Test Case {i+1}: Predicted Plan → {plan}\")\n"
   ]
  },
  {
   "cell_type": "markdown",
   "id": "0cc0d0d1",
   "metadata": {},
   "source": [
    "## Final model evaluation.\n",
    "\n",
    "#### • Retrain or reuse the final model.\n",
    "\n",
    "#### • Evaluate on the test set using accuracy_score.\n",
    "\n",
    "#### • Confirm the model meets the 0.75 threshold."
   ]
  },
  {
   "cell_type": "code",
   "execution_count": 12,
   "id": "d4b2191c",
   "metadata": {},
   "outputs": [
    {
     "name": "stdout",
     "output_type": "stream",
     "text": [
      "Final Model Accuracy on Test Set: 0.80\n",
      "✅ The model meets the required threshold.\n"
     ]
    }
   ],
   "source": [
    "# Evaluate the best model on the test set\n",
    "y_test_pred = best_model.predict(X_test)\n",
    "test_accuracy = accuracy_score(y_test, y_test_pred)\n",
    "\n",
    "print(f\"Final Model Accuracy on Test Set: {test_accuracy:.2f}\")\n",
    "\n",
    "# Check if the model meets the required threshold   \n",
    "if test_accuracy >= 0.75:\n",
    "    print(\"✅ The model meets the required threshold.\")\n",
    "else:\n",
    "    print(\"❌ The model does not meet the required threshold.\")\n"
   ]
  },
  {
   "cell_type": "markdown",
   "id": "eccb480b",
   "metadata": {},
   "source": [
    "# Finding and Interpretation:\n",
    "#### After testing multiple classification models, the Random Forest Classifier achieved the highest validation accuracy of 0.80, outperforming Logistic Regression and Decision Tree Classifier.\n",
    "\n",
    "#### • Through hyperparameter tuning using combinations of max_depth and n_estimators, we further optimized the Random Forest model.\n",
    "\n",
    "#### • The selected model met the project requirement of minimum 0.75 accuracy on the test set, showing robust generalization ability.\n",
    "\n",
    "#### • The simplicity of the data combined with the strength of ensemble methods contributed to the model’s performance.\n",
    "\n",
    "#### • Future work could explore ensemble stacking or feature engineering to further enhance performance."
   ]
  }
 ],
 "metadata": {
  "kernelspec": {
   "display_name": ".venv",
   "language": "python",
   "name": "python3"
  },
  "language_info": {
   "codemirror_mode": {
    "name": "ipython",
    "version": 3
   },
   "file_extension": ".py",
   "mimetype": "text/x-python",
   "name": "python",
   "nbconvert_exporter": "python",
   "pygments_lexer": "ipython3",
   "version": "3.13.1"
  }
 },
 "nbformat": 4,
 "nbformat_minor": 5
}
